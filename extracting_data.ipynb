{
 "cells": [
  {
   "cell_type": "code",
   "execution_count": 1,
   "metadata": {},
   "outputs": [],
   "source": [
    "import numpy as np"
   ]
  },
  {
   "cell_type": "code",
   "execution_count": 2,
   "metadata": {},
   "outputs": [],
   "source": [
    "def extract_gps_coordinates(ulog):\n",
    "    \"\"\"\n",
    "    Extract GPS coordinates (LAT, LONG, ALTITUDE) and trajectory from the flight log (ulog).\n",
    "\n",
    "    :param ulog: The flight log object\n",
    "    :return: List of tuples [(timestamp, lat, lon, alt), ...] or None if no valid data\n",
    "    \"\"\"\n",
    "    try:\n",
    "        # Access the GPS dataset\n",
    "        cur_dataset = ulog.get_dataset('vehicle_gps_position')\n",
    "        print(\"Available fields:\", cur_dataset.data.keys())  # Inspect available fields\n",
    "\n",
    "        # Check for required fields\n",
    "        required_fields = ['timestamp', 'latitude_deg', 'longitude_deg', 'altitude_msl_m', 'fix_type']\n",
    "        for field in required_fields:\n",
    "            if field not in cur_dataset.data:\n",
    "                raise KeyError(f\"Missing required field: {field}\")\n",
    "\n",
    "        # Filter valid data with a good GPS fix (fix_type > 2)\n",
    "        indices = cur_dataset.data['fix_type'] > 2\n",
    "        if not indices.any():\n",
    "            raise ValueError('No valid GPS position data')\n",
    "\n",
    "        # Extract timestamp, latitude, longitude, and altitude\n",
    "        timestamps = cur_dataset.data['timestamp'][indices] \n",
    "        latitudes = cur_dataset.data['latitude_deg'][indices] # Latitude in degrees \n",
    "        longitudes = cur_dataset.data['longitude_deg'][indices] # Longitude in degrees.\n",
    "        altitudes = cur_dataset.data['altitude_msl_m'][indices] # Altitude above mean sea level in meters.\n",
    "\n",
    "        # Combine into a trajectory list\n",
    "        trajectory = list(zip(timestamps, latitudes, longitudes, altitudes))\n",
    "        print(f\"Extracted {len(trajectory)} valid GPS points.\")\n",
    "        return trajectory\n",
    "\n",
    "    except (KeyError, IndexError, ValueError) as error:\n",
    "        print(f\"Error extracting GPS data: {error}\")\n",
    "        return None"
   ]
  },
  {
   "cell_type": "code",
   "execution_count": 3,
   "metadata": {},
   "outputs": [],
   "source": [
    "def save_trajectory_to_csv(trajectory, filename):\n",
    "    \"\"\"\n",
    "    Save the extracted trajectory to a CSV file.\n",
    "\n",
    "    :param trajectory: List of tuples [(timestamp, lat, lon, alt), ...]\n",
    "    :param filename: Output CSV file path\n",
    "    \"\"\"\n",
    "    import csv\n",
    "    try:\n",
    "        with open(filename, 'w', newline='') as csvfile:\n",
    "            writer = csv.writer(csvfile)\n",
    "            writer.writerow(['Timestamp', 'Latitude', 'Longitude', 'Altitude'])\n",
    "            writer.writerows(trajectory)\n",
    "        print(f\"Trajectory saved to {filename}\")\n",
    "    except Exception as e:\n",
    "        print(f\"Error saving trajectory: {e}\")"
   ]
  },
  {
   "cell_type": "markdown",
   "metadata": {},
   "source": [
    "# Plotting"
   ]
  },
  {
   "cell_type": "code",
   "execution_count": 4,
   "metadata": {},
   "outputs": [],
   "source": [
    "# Plot Latitude vs Longitude\n",
    "import matplotlib.pyplot as plt\n",
    "from mpl_toolkits.mplot3d import Axes3D\n",
    "\n",
    "def plot_lat_long(trajectory):\n",
    "    \"\"\"\n",
    "    Plot latitude vs longitude (2D trajectory).\n",
    "    \"\"\"\n",
    "    latitudes = [point[1] for point in trajectory]\n",
    "    longitudes = [point[2] for point in trajectory]\n",
    "\n",
    "    plt.figure(figsize=(10, 6))\n",
    "    plt.plot(longitudes, latitudes, marker='o', linestyle='-', color='b')\n",
    "    plt.title(\"Latitude vs Longitude\")\n",
    "    plt.xlabel(\"Longitude\")\n",
    "    plt.ylabel(\"Latitude\")\n",
    "    plt.grid()\n",
    "    plt.show()\n",
    "\n",
    "\n",
    "# Plot Latitude, Longitude, and Altitude in 3D\n",
    "def plot_3d_trajectory(trajectory):\n",
    "    \"\"\"\n",
    "    Plot latitude, longitude, and altitude in a 3D trajectory plot.\n",
    "    \"\"\"\n",
    "    latitudes = [point[1] for point in trajectory]\n",
    "    longitudes = [point[2] for point in trajectory]\n",
    "    altitudes = [point[3] for point in trajectory]\n",
    "\n",
    "    fig = plt.figure(figsize=(10, 8))\n",
    "    ax = fig.add_subplot(111, projection='3d')\n",
    "    ax.plot(longitudes, latitudes, altitudes, marker='o', linestyle='-', color='r')\n",
    "\n",
    "    ax.set_title(\"3D Trajectory (Lat, Lon, Alt)\")\n",
    "    ax.set_xlabel(\"Longitude\")\n",
    "    ax.set_ylabel(\"Latitude\")\n",
    "    ax.set_zlabel(\"Altitude (m)\")\n",
    "\n",
    "    plt.show()"
   ]
  },
  {
   "cell_type": "markdown",
   "metadata": {},
   "source": [
    "# Main"
   ]
  },
  {
   "cell_type": "code",
   "execution_count": 5,
   "metadata": {},
   "outputs": [],
   "source": [
    "def main():\n",
    "    from pyulog import ULog\n",
    "\n",
    "    ulog_file_path = \"/home/hawk/GitDir/Logging/2024-12-09/12_40_59.ulg\"\n",
    "\n",
    "    # Load the ulog file\n",
    "    try:\n",
    "        ulog = ULog(ulog_file_path)\n",
    "        print(\"ULog file loaded successfully.\")\n",
    "    except Exception as e:\n",
    "        print(f\"Error loading ULog file: {e}\")\n",
    "        return\n",
    "\n",
    "    # Extract GPS coordinates\n",
    "    trajectory = extract_gps_coordinates(ulog)\n",
    "\n",
    "    # Save trajectory to a CSV file (if valid)\n",
    "    if trajectory:\n",
    "        save_trajectory_to_csv(trajectory, 'trajectory.csv')\n",
    "\n",
    "        # Plot the trajectory\n",
    "        plot_lat_long(trajectory)       # 2D plot (Latitude vs Longitude)\n",
    "        plot_3d_trajectory(trajectory)  # 3D plot (Lat, Lon, Alt)\n",
    "    else:\n",
    "        print(\"No valid GPS data found in the log file.\")\n"
   ]
  },
  {
   "cell_type": "code",
   "execution_count": null,
   "metadata": {},
   "outputs": [],
   "source": [
    "if __name__ == \"__main__\":\n",
    "    main()"
   ]
  }
 ],
 "metadata": {
  "kernelspec": {
   "display_name": "ddrm",
   "language": "python",
   "name": "python3"
  },
  "language_info": {
   "codemirror_mode": {
    "name": "ipython",
    "version": 3
   },
   "file_extension": ".py",
   "mimetype": "text/x-python",
   "name": "python",
   "nbconvert_exporter": "python",
   "pygments_lexer": "ipython3",
   "version": "3.9.7"
  }
 },
 "nbformat": 4,
 "nbformat_minor": 2
}
