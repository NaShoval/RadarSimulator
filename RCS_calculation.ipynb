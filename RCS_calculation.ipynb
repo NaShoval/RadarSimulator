{
 "cells": [
  {
   "cell_type": "markdown",
   "metadata": {
    "vscode": {
     "languageId": "plaintext"
    }
   },
   "source": [
    "## Calculating RCS (Not working)"
   ]
  },
  {
   "cell_type": "code",
   "execution_count": 5,
   "metadata": {},
   "outputs": [
    {
     "name": "stdout",
     "output_type": "stream",
     "text": [
      "Requirement already satisfied: numpy in /home/hawk/anaconda3/envs/ddrm/lib/python3.9/site-packages (1.26.4)\n",
      "Requirement already satisfied: trimesh in /home/hawk/anaconda3/envs/ddrm/lib/python3.9/site-packages (4.5.3)\n",
      "Requirement already satisfied: matplotlib in /home/hawk/anaconda3/envs/ddrm/lib/python3.9/site-packages (3.9.3)\n",
      "Requirement already satisfied: meep in /home/hawk/anaconda3/envs/ddrm/lib/python3.9/site-packages (1.0.6)\n",
      "Requirement already satisfied: pyparsing>=2.3.1 in /home/hawk/anaconda3/envs/ddrm/lib/python3.9/site-packages (from matplotlib) (3.2.0)\n",
      "Requirement already satisfied: pillow>=8 in /home/hawk/anaconda3/envs/ddrm/lib/python3.9/site-packages (from matplotlib) (8.4.0)\n",
      "Requirement already satisfied: contourpy>=1.0.1 in /home/hawk/anaconda3/envs/ddrm/lib/python3.9/site-packages (from matplotlib) (1.3.0)\n",
      "Requirement already satisfied: kiwisolver>=1.3.1 in /home/hawk/anaconda3/envs/ddrm/lib/python3.9/site-packages (from matplotlib) (1.4.7)\n",
      "Requirement already satisfied: cycler>=0.10 in /home/hawk/anaconda3/envs/ddrm/lib/python3.9/site-packages (from matplotlib) (0.12.1)\n",
      "Requirement already satisfied: fonttools>=4.22.0 in /home/hawk/anaconda3/envs/ddrm/lib/python3.9/site-packages (from matplotlib) (4.55.2)\n",
      "Requirement already satisfied: packaging>=20.0 in /home/hawk/.local/lib/python3.9/site-packages (from matplotlib) (24.0)\n",
      "Requirement already satisfied: python-dateutil>=2.7 in /home/hawk/.local/lib/python3.9/site-packages (from matplotlib) (2.9.0.post0)\n",
      "Requirement already satisfied: importlib-resources>=3.2.0 in /home/hawk/anaconda3/envs/ddrm/lib/python3.9/site-packages (from matplotlib) (6.4.5)\n",
      "Requirement already satisfied: hgapi in /home/hawk/anaconda3/envs/ddrm/lib/python3.9/site-packages (from meep) (1.7.4)\n",
      "Requirement already satisfied: gitapi in /home/hawk/anaconda3/envs/ddrm/lib/python3.9/site-packages (from meep) (1.0.1)\n",
      "Requirement already satisfied: zipp>=3.1.0 in /home/hawk/.local/lib/python3.9/site-packages (from importlib-resources>=3.2.0->matplotlib) (3.18.1)\n",
      "Requirement already satisfied: six>=1.5 in /home/hawk/.local/lib/python3.9/site-packages (from python-dateutil>=2.7->matplotlib) (1.16.0)\n",
      "Note: you may need to restart the kernel to use updated packages.\n"
     ]
    }
   ],
   "source": [
    "pip install numpy trimesh matplotlib meep"
   ]
  },
  {
   "cell_type": "code",
   "execution_count": 6,
   "metadata": {},
   "outputs": [],
   "source": [
    "import meep as mp\n",
    "import trimesh\n",
    "import numpy as np\n",
    "import matplotlib.pyplot as plt"
   ]
  },
  {
   "cell_type": "code",
   "execution_count": 7,
   "metadata": {},
   "outputs": [
    {
     "ename": "ValueError",
     "evalue": "string is not a file: your_model.stl",
     "output_type": "error",
     "traceback": [
      "\u001b[0;31m---------------------------------------------------------------------------\u001b[0m",
      "\u001b[0;31mValueError\u001b[0m                                Traceback (most recent call last)",
      "Cell \u001b[0;32mIn[7], line 3\u001b[0m\n\u001b[1;32m      1\u001b[0m \u001b[38;5;66;03m# Step 1: Load the STL Model\u001b[39;00m\n\u001b[1;32m      2\u001b[0m model_path \u001b[38;5;241m=\u001b[39m \u001b[38;5;124m\"\u001b[39m\u001b[38;5;124myour_model.stl\u001b[39m\u001b[38;5;124m\"\u001b[39m  \u001b[38;5;66;03m# Replace with your STL file path\u001b[39;00m\n\u001b[0;32m----> 3\u001b[0m mesh \u001b[38;5;241m=\u001b[39m \u001b[43mtrimesh\u001b[49m\u001b[38;5;241;43m.\u001b[39;49m\u001b[43mload_mesh\u001b[49m\u001b[43m(\u001b[49m\u001b[43mmodel_path\u001b[49m\u001b[43m)\u001b[49m\n\u001b[1;32m      5\u001b[0m \u001b[38;5;66;03m# Get bounding box for the model\u001b[39;00m\n\u001b[1;32m      6\u001b[0m bounding_box \u001b[38;5;241m=\u001b[39m mesh\u001b[38;5;241m.\u001b[39mbounds\n",
      "File \u001b[0;32m~/anaconda3/envs/ddrm/lib/python3.9/site-packages/trimesh/exchange/load.py:195\u001b[0m, in \u001b[0;36mload_mesh\u001b[0;34m(file_obj, file_type, resolver, **kwargs)\u001b[0m\n\u001b[1;32m    170\u001b[0m \u001b[38;5;250m\u001b[39m\u001b[38;5;124;03m\"\"\"\u001b[39;00m\n\u001b[1;32m    171\u001b[0m \u001b[38;5;124;03mLoad a mesh file into a Trimesh object.\u001b[39;00m\n\u001b[1;32m    172\u001b[0m \n\u001b[0;32m   (...)\u001b[0m\n\u001b[1;32m    185\u001b[0m \u001b[38;5;124;03m  Loaded geometry data.\u001b[39;00m\n\u001b[1;32m    186\u001b[0m \u001b[38;5;124;03m\"\"\"\u001b[39;00m\n\u001b[1;32m    188\u001b[0m \u001b[38;5;66;03m# parse the file arguments into clean loadable form\u001b[39;00m\n\u001b[1;32m    189\u001b[0m (\n\u001b[1;32m    190\u001b[0m     file_obj,  \u001b[38;5;66;03m# file-like object\u001b[39;00m\n\u001b[1;32m    191\u001b[0m     file_type,  \u001b[38;5;66;03m# str: what kind of file\u001b[39;00m\n\u001b[1;32m    192\u001b[0m     metadata,  \u001b[38;5;66;03m# dict: any metadata from file name\u001b[39;00m\n\u001b[1;32m    193\u001b[0m     opened,  \u001b[38;5;66;03m# bool: did we open the file ourselves\u001b[39;00m\n\u001b[1;32m    194\u001b[0m     resolver,  \u001b[38;5;66;03m# Resolver: to load referenced resources\u001b[39;00m\n\u001b[0;32m--> 195\u001b[0m ) \u001b[38;5;241m=\u001b[39m \u001b[43m_parse_file_args\u001b[49m\u001b[43m(\u001b[49m\u001b[43mfile_obj\u001b[49m\u001b[38;5;241;43m=\u001b[39;49m\u001b[43mfile_obj\u001b[49m\u001b[43m,\u001b[49m\u001b[43m \u001b[49m\u001b[43mfile_type\u001b[49m\u001b[38;5;241;43m=\u001b[39;49m\u001b[43mfile_type\u001b[49m\u001b[43m,\u001b[49m\u001b[43m \u001b[49m\u001b[43mresolver\u001b[49m\u001b[38;5;241;43m=\u001b[39;49m\u001b[43mresolver\u001b[49m\u001b[43m)\u001b[49m\n\u001b[1;32m    197\u001b[0m \u001b[38;5;28;01mtry\u001b[39;00m:\n\u001b[1;32m    198\u001b[0m     \u001b[38;5;66;03m# make sure we keep passed kwargs to loader\u001b[39;00m\n\u001b[1;32m    199\u001b[0m     \u001b[38;5;66;03m# but also make sure loader keys override passed keys\u001b[39;00m\n\u001b[1;32m    200\u001b[0m     loader \u001b[38;5;241m=\u001b[39m mesh_loaders[file_type]\n",
      "File \u001b[0;32m~/anaconda3/envs/ddrm/lib/python3.9/site-packages/trimesh/exchange/load.py:612\u001b[0m, in \u001b[0;36m_parse_file_args\u001b[0;34m(file_obj, file_type, resolver, **kwargs)\u001b[0m\n\u001b[1;32m    610\u001b[0m             \u001b[38;5;28;01mraise\u001b[39;00m \u001b[38;5;167;01mValueError\u001b[39;00m(\u001b[38;5;124mf\u001b[39m\u001b[38;5;124m\"\u001b[39m\u001b[38;5;124muse load_remote to load URL: \u001b[39m\u001b[38;5;132;01m{\u001b[39;00mfile_obj\u001b[38;5;132;01m}\u001b[39;00m\u001b[38;5;124m\"\u001b[39m)\n\u001b[1;32m    611\u001b[0m         \u001b[38;5;28;01melif\u001b[39;00m file_type \u001b[38;5;129;01mis\u001b[39;00m \u001b[38;5;28;01mNone\u001b[39;00m:\n\u001b[0;32m--> 612\u001b[0m             \u001b[38;5;28;01mraise\u001b[39;00m \u001b[38;5;167;01mValueError\u001b[39;00m(\u001b[38;5;124mf\u001b[39m\u001b[38;5;124m\"\u001b[39m\u001b[38;5;124mstring is not a file: \u001b[39m\u001b[38;5;132;01m{\u001b[39;00mfile_obj\u001b[38;5;132;01m}\u001b[39;00m\u001b[38;5;124m\"\u001b[39m)\n\u001b[1;32m    614\u001b[0m \u001b[38;5;28;01mif\u001b[39;00m file_type \u001b[38;5;129;01mis\u001b[39;00m \u001b[38;5;28;01mNone\u001b[39;00m:\n\u001b[1;32m    615\u001b[0m     file_type \u001b[38;5;241m=\u001b[39m file_obj\u001b[38;5;241m.\u001b[39m\u001b[38;5;18m__class__\u001b[39m\u001b[38;5;241m.\u001b[39m\u001b[38;5;18m__name__\u001b[39m\n",
      "\u001b[0;31mValueError\u001b[0m: string is not a file: your_model.stl"
     ]
    }
   ],
   "source": [
    "# Step 1: Load the STL Model\n",
    "model_path = \"your_model.stl\"  # Replace with your STL file path\n",
    "mesh = trimesh.load_mesh(model_path)\n",
    "\n",
    "# Get bounding box for the model\n",
    "bounding_box = mesh.bounds\n",
    "object_size = bounding_box[1] - bounding_box[0]"
   ]
  },
  {
   "cell_type": "code",
   "execution_count": null,
   "metadata": {},
   "outputs": [],
   "source": [
    "# Step 2: Define Simulation Parameters\n",
    "resolution = 50  # Grid resolution (higher = more accurate, slower)\n",
    "cell_size = mp.Vector3(object_size[0] + 10, object_size[1] + 10, 0)  # Add padding\n",
    "geometry = [mp.Block(size=mp.Vector3(object_size[0], object_size[1], mp.inf),\n",
    "                     center=mp.Vector3(0, 0),\n",
    "                     material=mp.metal)]  # Assume the object is metallic\n"
   ]
  },
  {
   "cell_type": "code",
   "execution_count": null,
   "metadata": {},
   "outputs": [],
   "source": [
    "# Step 3: Define Radar Source\n",
    "frequency = 10e9  # Radar frequency in Hz (10 GHz)\n",
    "wavelength = 3e8 / frequency  # Wavelength (m)\n",
    "sources = [mp.Source(mp.ContinuousSource(frequency=frequency),\n",
    "                     component=mp.Ez,\n",
    "                     center=mp.Vector3(-5, 0),\n",
    "                     size=mp.Vector3(0, object_size[1] + 10))]"
   ]
  },
  {
   "cell_type": "code",
   "execution_count": null,
   "metadata": {},
   "outputs": [],
   "source": [
    "# Step 4: Define Boundary Conditions (PML)\n",
    "pml_layers = [mp.PML(1.0)]  # Perfectly Matched Layers to absorb outgoing waves"
   ]
  },
  {
   "cell_type": "code",
   "execution_count": null,
   "metadata": {},
   "outputs": [],
   "source": [
    "# Step 5: Create and Run the Simulation\n",
    "sim = mp.Simulation(cell_size=cell_size,\n",
    "                    resolution=resolution,\n",
    "                    geometry=geometry,\n",
    "                    sources=sources,\n",
    "                    boundary_layers=pml_layers)\n",
    "\n",
    "# Run simulation to steady state\n",
    "sim.run(until=200)"
   ]
  },
  {
   "cell_type": "code",
   "execution_count": null,
   "metadata": {},
   "outputs": [],
   "source": [
    "# Step 6: Extract and Analyze Scattered Fields\n",
    "# Create a field monitor to record scattering\n",
    "sim.run(mp.at_every(1, mp.output_efield_z), until=200)\n",
    "\n",
    "# Example: Visualize the field distribution\n",
    "plt.figure(figsize=(10, 6))\n",
    "sim.plot2D(output_plane=mp.Volume(center=mp.Vector3(), size=cell_size))\n",
    "plt.title(\"Field Distribution\")\n",
    "plt.show()"
   ]
  },
  {
   "cell_type": "code",
   "execution_count": null,
   "metadata": {},
   "outputs": [
    {
     "ename": "ValueError",
     "evalue": "string is not a file: your_model.stl",
     "output_type": "error",
     "traceback": [
      "\u001b[0;31m---------------------------------------------------------------------------\u001b[0m",
      "\u001b[0;31mValueError\u001b[0m                                Traceback (most recent call last)",
      "Cell \u001b[0;32mIn[4], line 8\u001b[0m\n\u001b[1;32m      6\u001b[0m \u001b[38;5;66;03m# Step 1: Load the STL Model\u001b[39;00m\n\u001b[1;32m      7\u001b[0m model_path \u001b[38;5;241m=\u001b[39m \u001b[38;5;124m\"\u001b[39m\u001b[38;5;124myour_model.stl\u001b[39m\u001b[38;5;124m\"\u001b[39m  \u001b[38;5;66;03m# Replace with your STL file path\u001b[39;00m\n\u001b[0;32m----> 8\u001b[0m mesh \u001b[38;5;241m=\u001b[39m \u001b[43mtrimesh\u001b[49m\u001b[38;5;241;43m.\u001b[39;49m\u001b[43mload_mesh\u001b[49m\u001b[43m(\u001b[49m\u001b[43mmodel_path\u001b[49m\u001b[43m)\u001b[49m\n\u001b[1;32m     10\u001b[0m \u001b[38;5;66;03m# Get bounding box for the model\u001b[39;00m\n\u001b[1;32m     11\u001b[0m bounding_box \u001b[38;5;241m=\u001b[39m mesh\u001b[38;5;241m.\u001b[39mbounds\n",
      "File \u001b[0;32m~/anaconda3/envs/ddrm/lib/python3.9/site-packages/trimesh/exchange/load.py:195\u001b[0m, in \u001b[0;36mload_mesh\u001b[0;34m(file_obj, file_type, resolver, **kwargs)\u001b[0m\n\u001b[1;32m    170\u001b[0m \u001b[38;5;250m\u001b[39m\u001b[38;5;124;03m\"\"\"\u001b[39;00m\n\u001b[1;32m    171\u001b[0m \u001b[38;5;124;03mLoad a mesh file into a Trimesh object.\u001b[39;00m\n\u001b[1;32m    172\u001b[0m \n\u001b[0;32m   (...)\u001b[0m\n\u001b[1;32m    185\u001b[0m \u001b[38;5;124;03m  Loaded geometry data.\u001b[39;00m\n\u001b[1;32m    186\u001b[0m \u001b[38;5;124;03m\"\"\"\u001b[39;00m\n\u001b[1;32m    188\u001b[0m \u001b[38;5;66;03m# parse the file arguments into clean loadable form\u001b[39;00m\n\u001b[1;32m    189\u001b[0m (\n\u001b[1;32m    190\u001b[0m     file_obj,  \u001b[38;5;66;03m# file-like object\u001b[39;00m\n\u001b[1;32m    191\u001b[0m     file_type,  \u001b[38;5;66;03m# str: what kind of file\u001b[39;00m\n\u001b[1;32m    192\u001b[0m     metadata,  \u001b[38;5;66;03m# dict: any metadata from file name\u001b[39;00m\n\u001b[1;32m    193\u001b[0m     opened,  \u001b[38;5;66;03m# bool: did we open the file ourselves\u001b[39;00m\n\u001b[1;32m    194\u001b[0m     resolver,  \u001b[38;5;66;03m# Resolver: to load referenced resources\u001b[39;00m\n\u001b[0;32m--> 195\u001b[0m ) \u001b[38;5;241m=\u001b[39m \u001b[43m_parse_file_args\u001b[49m\u001b[43m(\u001b[49m\u001b[43mfile_obj\u001b[49m\u001b[38;5;241;43m=\u001b[39;49m\u001b[43mfile_obj\u001b[49m\u001b[43m,\u001b[49m\u001b[43m \u001b[49m\u001b[43mfile_type\u001b[49m\u001b[38;5;241;43m=\u001b[39;49m\u001b[43mfile_type\u001b[49m\u001b[43m,\u001b[49m\u001b[43m \u001b[49m\u001b[43mresolver\u001b[49m\u001b[38;5;241;43m=\u001b[39;49m\u001b[43mresolver\u001b[49m\u001b[43m)\u001b[49m\n\u001b[1;32m    197\u001b[0m \u001b[38;5;28;01mtry\u001b[39;00m:\n\u001b[1;32m    198\u001b[0m     \u001b[38;5;66;03m# make sure we keep passed kwargs to loader\u001b[39;00m\n\u001b[1;32m    199\u001b[0m     \u001b[38;5;66;03m# but also make sure loader keys override passed keys\u001b[39;00m\n\u001b[1;32m    200\u001b[0m     loader \u001b[38;5;241m=\u001b[39m mesh_loaders[file_type]\n",
      "File \u001b[0;32m~/anaconda3/envs/ddrm/lib/python3.9/site-packages/trimesh/exchange/load.py:612\u001b[0m, in \u001b[0;36m_parse_file_args\u001b[0;34m(file_obj, file_type, resolver, **kwargs)\u001b[0m\n\u001b[1;32m    610\u001b[0m             \u001b[38;5;28;01mraise\u001b[39;00m \u001b[38;5;167;01mValueError\u001b[39;00m(\u001b[38;5;124mf\u001b[39m\u001b[38;5;124m\"\u001b[39m\u001b[38;5;124muse load_remote to load URL: \u001b[39m\u001b[38;5;132;01m{\u001b[39;00mfile_obj\u001b[38;5;132;01m}\u001b[39;00m\u001b[38;5;124m\"\u001b[39m)\n\u001b[1;32m    611\u001b[0m         \u001b[38;5;28;01melif\u001b[39;00m file_type \u001b[38;5;129;01mis\u001b[39;00m \u001b[38;5;28;01mNone\u001b[39;00m:\n\u001b[0;32m--> 612\u001b[0m             \u001b[38;5;28;01mraise\u001b[39;00m \u001b[38;5;167;01mValueError\u001b[39;00m(\u001b[38;5;124mf\u001b[39m\u001b[38;5;124m\"\u001b[39m\u001b[38;5;124mstring is not a file: \u001b[39m\u001b[38;5;132;01m{\u001b[39;00mfile_obj\u001b[38;5;132;01m}\u001b[39;00m\u001b[38;5;124m\"\u001b[39m)\n\u001b[1;32m    614\u001b[0m \u001b[38;5;28;01mif\u001b[39;00m file_type \u001b[38;5;129;01mis\u001b[39;00m \u001b[38;5;28;01mNone\u001b[39;00m:\n\u001b[1;32m    615\u001b[0m     file_type \u001b[38;5;241m=\u001b[39m file_obj\u001b[38;5;241m.\u001b[39m\u001b[38;5;18m__class__\u001b[39m\u001b[38;5;241m.\u001b[39m\u001b[38;5;18m__name__\u001b[39m\n",
      "\u001b[0;31mValueError\u001b[0m: string is not a file: your_model.stl"
     ]
    }
   ],
   "source": [
    "# Step 7: Calculate RCS (Post-Processing)\n",
    "# Extract the scattered field data and integrate over a sphere\n",
    "# Approximation: Analyze intensity in the far field to estimate RCS\n",
    "scattered_field = sim.get_array(center=mp.Vector3(0, 0), size=cell_size, component=mp.Ez)\n",
    "intensity = np.abs(scattered_field)**2\n",
    "rcs = np.sum(intensity) * (wavelength**2 / (4 * np.pi))  # Far-field approximation\n",
    "\n",
    "print(f\"Estimated RCS: {rcs:.2f} m^2\")\n"
   ]
  }
 ],
 "metadata": {
  "kernelspec": {
   "display_name": "ddrm",
   "language": "python",
   "name": "python3"
  },
  "language_info": {
   "codemirror_mode": {
    "name": "ipython",
    "version": 3
   },
   "file_extension": ".py",
   "mimetype": "text/x-python",
   "name": "python",
   "nbconvert_exporter": "python",
   "pygments_lexer": "ipython3",
   "version": "3.9.7"
  }
 },
 "nbformat": 4,
 "nbformat_minor": 2
}
