{
 "cells": [
  {
   "cell_type": "code",
   "execution_count": null,
   "metadata": {},
   "outputs": [],
   "source": [
    "def extract_rpm_data(ulog):\n",
    "    \"\"\"\n",
    "    Extract RPM data from the 'esc_status' dataset in the ULog file.\n",
    "    \n",
    "    :param ulog: ULog object\n",
    "    :return: List of tuples [(timestamp, esc_0_rpm, esc_1_rpm, ...)]\n",
    "    \"\"\"\n",
    "    try:\n",
    "        esc_data = ulog.get_dataset(\"esc_status\")\n",
    "        timestamps = esc_data.data['timestamp']\n",
    "        esc_rpm_fields = [f'esc[{i}].esc_rpm' for i in range(8)]  # Up to 8 ESCs\n",
    "\n",
    "        # Ensure only valid fields are processed\n",
    "        available_esc_fields = [field for field in esc_rpm_fields if field in esc_data.data]\n",
    "\n",
    "        # Extract data\n",
    "        rpm_data = []\n",
    "        for i, timestamp in enumerate(timestamps):\n",
    "            row = [timestamp]\n",
    "            for field in available_esc_fields:\n",
    "                row.append(esc_data.data[field][i])\n",
    "            rpm_data.append(row)\n",
    "\n",
    "        return rpm_data, available_esc_fields\n",
    "    except KeyError:\n",
    "        print(\"esc_status dataset not available in the log.\")\n",
    "        return [], []\n"
   ]
  },
  {
   "cell_type": "code",
   "execution_count": null,
   "metadata": {},
   "outputs": [],
   "source": [
    "\n",
    "def save_rpm_to_csv(rpm_data, esc_fields, filename):\n",
    "    \"\"\"\n",
    "    Save the RPM data to a CSV file.\n",
    "    \n",
    "    :param rpm_data: List of tuples [(timestamp, esc_0_rpm, esc_1_rpm, ...)]\n",
    "    :param esc_fields: List of ESC field names (e.g., ['esc[0].esc_rpm', ...])\n",
    "    :param filename: Output CSV file path\n",
    "    \"\"\"\n",
    "    import csv\n",
    "    try:\n",
    "        with open(filename, 'w', newline='') as csvfile:\n",
    "            writer = csv.writer(csvfile)\n",
    "            # Write header\n",
    "            header = ['Timestamp'] + esc_fields\n",
    "            writer.writerow(header)\n",
    "            # Write data rows\n",
    "            writer.writerows(rpm_data)\n",
    "        print(f\"RPM data saved to {filename}\")\n",
    "    except Exception as e:\n",
    "        print(f\"Error saving RPM data: {e}\")\n"
   ]
  },
  {
   "cell_type": "code",
   "execution_count": null,
   "metadata": {},
   "outputs": [],
   "source": [
    "def plot_rpm_data(rpm_data, esc_fields):\n",
    "    \"\"\"\n",
    "    Plot RPM data over time.\n",
    "    \n",
    "    :param rpm_data: List of tuples [(timestamp, esc_0_rpm, esc_1_rpm, ...)]\n",
    "    :param esc_fields: List of ESC field names (e.g., ['esc[0].esc_rpm', ...])\n",
    "    \"\"\"\n",
    "    import matplotlib.pyplot as plt\n",
    "    \n",
    "    timestamps = [row[0] for row in rpm_data]\n",
    "    plt.figure(figsize=(12, 6))\n",
    "    \n",
    "    for i, field in enumerate(esc_fields):\n",
    "        esc_rpm = [row[i + 1] for row in rpm_data]  # Offset by 1 for timestamps\n",
    "        plt.plot(timestamps, esc_rpm, label=f'{field} RPM')\n",
    "\n",
    "    plt.xlabel('Timestamp [ms]')\n",
    "    plt.ylabel('RPM')\n",
    "    plt.title('ESC RPM Over Time')\n",
    "    plt.legend()\n",
    "    plt.grid()\n",
    "    plt.show()\n"
   ]
  },
  {
   "cell_type": "code",
   "execution_count": null,
   "metadata": {},
   "outputs": [],
   "source": [
    "def main():\n",
    "    path_to_csv = 'csv_files/trajectory_rpm.csv'\n",
    "    ulog_file = '/home/hawk/GitDir/Logging/2024-12-09/12_40_59.ulg'\n",
    "    ulog = ULog(ulog_file)\n",
    "\n",
    "    # Extract RPM data\n",
    "    rpm_data, esc_fields = extract_rpm_data(ulog)\n",
    "\n",
    "    if rpm_data:\n",
    "        # Save to CSV\n",
    "        save_rpm_to_csv(rpm_data, [f.replace(\"esc[\", \"ESC_\").replace(\"].esc_rpm\", \"_RPM\") for f in esc_fields], path_to_csv)\n",
    "        \n",
    "        # Plot data\n",
    "        plot_rpm_data(rpm_data, [f.replace(\"esc[\", \"ESC_\").replace(\"].esc_rpm\", \"_RPM\") for f in esc_fields])"
   ]
  },
  {
   "cell_type": "code",
   "execution_count": null,
   "metadata": {},
   "outputs": [],
   "source": [
    "if __name__ == \"__main__\":\n",
    "    main()\n"
   ]
  }
 ],
 "metadata": {
  "kernelspec": {
   "display_name": "ddrm",
   "language": "python",
   "name": "python3"
  },
  "language_info": {
   "name": "python",
   "version": "3.9.7"
  }
 },
 "nbformat": 4,
 "nbformat_minor": 2
}
